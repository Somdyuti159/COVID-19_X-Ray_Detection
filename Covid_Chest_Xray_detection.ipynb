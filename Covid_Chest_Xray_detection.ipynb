{
  "nbformat": 4,
  "nbformat_minor": 0,
  "metadata": {
    "accelerator": "GPU",
    "colab": {
      "name": "Covid Chest Xray detection.ipynb",
      "provenance": [],
      "collapsed_sections": [
        "OaeaMKXQRvzX"
      ],
      "toc_visible": true,
      "include_colab_link": true
    },
    "kernelspec": {
      "display_name": "Python 3",
      "language": "python",
      "name": "python3"
    },
    "language_info": {
      "codemirror_mode": {
        "name": "ipython",
        "version": 3
      },
      "file_extension": ".py",
      "mimetype": "text/x-python",
      "name": "python",
      "nbconvert_exporter": "python",
      "pygments_lexer": "ipython3",
      "version": "3.8.5"
    }
  },
  "cells": [
    {
      "cell_type": "markdown",
      "metadata": {
        "id": "view-in-github",
        "colab_type": "text"
      },
      "source": [
        "<a href=\"https://colab.research.google.com/github/Somdyuti159/COVID-19_X-Ray_Detection/blob/main/Covid_Chest_Xray_detection.ipynb\" target=\"_parent\"><img src=\"https://colab.research.google.com/assets/colab-badge.svg\" alt=\"Open In Colab\"/></a>"
      ]
    },
    {
      "cell_type": "code",
      "metadata": {
        "id": "NU8fiF0RKwiJ"
      },
      "source": [
        "from google.colab import drive\n",
        "drive.mount('/content/drive')"
      ],
      "execution_count": null,
      "outputs": []
    },
    {
      "cell_type": "markdown",
      "metadata": {
        "id": "OaeaMKXQRvzX"
      },
      "source": [
        "# Creating/Organizing the dataset\n",
        "\n",
        "#### Skip if dataset.zip exists"
      ]
    },
    {
      "cell_type": "code",
      "metadata": {
        "id": "XZJqwvXOVV6Y"
      },
      "source": [
        "import os\n",
        "import pandas as pd\n",
        "from shutil import copy\n",
        "from sklearn.model_selection import train_test_split"
      ],
      "execution_count": null,
      "outputs": []
    },
    {
      "cell_type": "code",
      "metadata": {
        "id": "r1GF41zEIxs9"
      },
      "source": [
        "# Create a dataset folder in colab\n",
        "\n",
        "if not os.path.exists('dataset'):\n",
        "    os.mkdir('dataset')\n",
        "    os.mkdir('dataset/Positive')\n",
        "    os.mkdir('dataset/Negative')\n",
        "\n",
        "    os.mkdir('dataset/train')\n",
        "    os.mkdir('dataset/test')\n",
        "    os.mkdir('dataset/train/Positive')\n",
        "    os.mkdir('dataset/train/Negative')\n",
        "    os.mkdir('dataset/test/Positive')\n",
        "    os.mkdir('dataset/test/Negative')"
      ],
      "execution_count": null,
      "outputs": []
    },
    {
      "cell_type": "code",
      "metadata": {
        "id": "XOkJfjbWVaDN"
      },
      "source": [
        "# Copy the COVID-19 images to the dataset folder here\n",
        "\n",
        "FILE_PATH = 'drive/My Drive/Covid/metadata.csv'\n",
        "IMAGES_PATH = 'drive/My Drive/Covid/images/'\n",
        "\n",
        "df = pd.read_csv(FILE_PATH)\n",
        "for i, row in df.iterrows():\n",
        "    if 'COVID-19' in row['finding'] and row['view'] == 'PA':\n",
        "        img = IMAGES_PATH + row['filename']\n",
        "        copy(img, f'dataset/Positive/{row[\"filename\"]}')\n",
        "\n",
        "len(os.listdir('dataset/Positive'))"
      ],
      "execution_count": null,
      "outputs": []
    },
    {
      "cell_type": "code",
      "metadata": {
        "id": "AoV-EWM5JfF-"
      },
      "source": [
        "# Copy the Normal images\n",
        "\n",
        "# choose around the same number of images to maintain balance in the dataset\n",
        "from random import sample\n",
        "\n",
        "NORMAL_PATH = 'drive/My Drive/Normal/'\n",
        "choices = sample(os.listdir(NORMAL_PATH), 200)\n",
        "\n",
        "for img in choices:\n",
        "    copy(NORMAL_PATH + img, f'dataset/Negative/{img}')"
      ],
      "execution_count": null,
      "outputs": []
    },
    {
      "cell_type": "code",
      "metadata": {
        "id": "eY8wY55oSUtr"
      },
      "source": [
        "# Create a train and a test set\n",
        "\n",
        "data = [f'Positive/{i}' for i in os.listdir('dataset/Positive')]\n",
        "data += [f'Negative/{i}' for i in os.listdir('dataset/Negative')]\n",
        "\n",
        "train, test = train_test_split(data, test_size=0.1)\n",
        "\n",
        "[copy(f'dataset/{i}', f'dataset/train/{i}') for i in train]\n",
        "[copy(f'dataset/{i}', f'dataset/test/{i}') for i in test]\n",
        "\n",
        "len(train), len(test)"
      ],
      "execution_count": null,
      "outputs": []
    },
    {
      "cell_type": "code",
      "metadata": {
        "id": "01_hWAZs7nWC"
      },
      "source": [
        "# remove the positive and the negative folder from dataset\n",
        "! rm -rf dataset/Positive\n",
        "! rm -rf dataset/Negative\n",
        "\n",
        "# Create a zip folder of the dataset for later use\n",
        "! zip -r dataset.zip dataset/\n",
        "\n",
        "# copy the zip to drive\n",
        "! cp dataset.zip drive/My\\ Drive/Covid-Clf/"
      ],
      "execution_count": null,
      "outputs": []
    },
    {
      "cell_type": "markdown",
      "metadata": {
        "id": "WURb2SYpW7xa"
      },
      "source": [
        "# Getting the dataset from drive"
      ]
    },
    {
      "cell_type": "code",
      "metadata": {
        "id": "WptgE2znSCGv"
      },
      "source": [
        "%%sh\n",
        "\n",
        "cp drive/My\\ Drive/Covid-Clf/dataset.zip /content/\n",
        "unzip -q dataset.zip"
      ],
      "execution_count": null,
      "outputs": []
    },
    {
      "cell_type": "markdown",
      "metadata": {
        "id": "pKoPfHplZ4EJ"
      },
      "source": [
        "# Model generation"
      ]
    },
    {
      "cell_type": "code",
      "metadata": {
        "id": "F9KCsJiba0IP"
      },
      "source": [
        "from tensorflow.keras import Sequential\n",
        "from tensorflow.keras.metrics import AUC\n",
        "from tensorflow.keras.applications import DenseNet121\n",
        "from tensorflow.keras.layers import Dense, Dropout, Flatten, AveragePooling2D"
      ],
      "execution_count": null,
      "outputs": []
    },
    {
      "cell_type": "code",
      "metadata": {
        "id": "Haewsb4jb-zR"
      },
      "source": [
        "base = DenseNet121(include_top=False, input_shape=(224, 224, 3))\n",
        "for layer in base.layers[:-3]: layer.trainable = False\n",
        "\n",
        "model = Sequential(\n",
        "    [\n",
        "        base,\n",
        "        AveragePooling2D((4, 4)),\n",
        "        Flatten(),\n",
        "        Dense(64, activation='relu'),\n",
        "        Dropout(0.5),\n",
        "        Dense(1, activation='sigmoid')\n",
        "    ]\n",
        ")\n",
        "model.compile(loss='binary_crossentropy', optimizer='adam', metrics=['acc', AUC()])"
      ],
      "execution_count": null,
      "outputs": []
    },
    {
      "cell_type": "code",
      "metadata": {
        "id": "CQ25LVoniYxD",
        "outputId": "2d3abef4-3b5b-4d87-a0f2-cf834b50b153",
        "colab": {
          "base_uri": "https://localhost:8080/"
        }
      },
      "source": [
        "model.summary()"
      ],
      "execution_count": null,
      "outputs": [
        {
          "output_type": "stream",
          "text": [
            "Model: \"sequential_1\"\n",
            "_________________________________________________________________\n",
            "Layer (type)                 Output Shape              Param #   \n",
            "=================================================================\n",
            "densenet121 (Functional)     (None, 7, 7, 1024)        7037504   \n",
            "_________________________________________________________________\n",
            "average_pooling2d_1 (Average (None, 1, 1, 1024)        0         \n",
            "_________________________________________________________________\n",
            "flatten_1 (Flatten)          (None, 1024)              0         \n",
            "_________________________________________________________________\n",
            "dense_2 (Dense)              (None, 64)                65600     \n",
            "_________________________________________________________________\n",
            "dropout_1 (Dropout)          (None, 64)                0         \n",
            "_________________________________________________________________\n",
            "dense_3 (Dense)              (None, 1)                 65        \n",
            "=================================================================\n",
            "Total params: 7,103,169\n",
            "Trainable params: 67,713\n",
            "Non-trainable params: 7,035,456\n",
            "_________________________________________________________________\n"
          ],
          "name": "stdout"
        }
      ]
    },
    {
      "cell_type": "markdown",
      "metadata": {
        "id": "Cx4cnyXIevMt"
      },
      "source": [
        "# Setting up HyperParameters"
      ]
    },
    {
      "cell_type": "code",
      "metadata": {
        "id": "4JplW_fweuJ-"
      },
      "source": [
        "BATCH_SIZE = 8\n",
        "N_EPOCHS = 8"
      ],
      "execution_count": null,
      "outputs": []
    },
    {
      "cell_type": "markdown",
      "metadata": {
        "id": "Aj8rHinWX8Zo"
      },
      "source": [
        "# Creating the Image generators for the model"
      ]
    },
    {
      "cell_type": "code",
      "metadata": {
        "id": "2ARl9Uix7i17"
      },
      "source": [
        "from tensorflow.keras.preprocessing.image import ImageDataGenerator"
      ],
      "execution_count": null,
      "outputs": []
    },
    {
      "cell_type": "code",
      "metadata": {
        "id": "hecCOTIFYaiA",
        "outputId": "e5529ef3-a8fd-413c-c305-d243da7e8438",
        "colab": {
          "base_uri": "https://localhost:8080/"
        }
      },
      "source": [
        "datagen = ImageDataGenerator(\n",
        "    rescale=1/255,\n",
        "    validation_split=0.1\n",
        ")\n",
        "\n",
        "train_data = datagen.flow_from_directory(\n",
        "    'dataset/train',\n",
        "    target_size=(224, 224),\n",
        "    batch_size=BATCH_SIZE,\n",
        "    class_mode='binary',\n",
        "    subset='training',\n",
        ")\n",
        "\n",
        "valid_data = datagen.flow_from_directory(\n",
        "    'dataset/train',\n",
        "    target_size=(224, 224),\n",
        "    batch_size=BATCH_SIZE,\n",
        "    class_mode='binary',\n",
        "    subset='validation'\n",
        ")\n",
        "\n",
        "test_data = datagen.flow_from_directory(\n",
        "    'dataset/test',\n",
        "    target_size=(224, 224),\n",
        "    class_mode='binary'\n",
        ")"
      ],
      "execution_count": null,
      "outputs": [
        {
          "output_type": "stream",
          "text": [
            "Found 321 images belonging to 2 classes.\n",
            "Found 35 images belonging to 2 classes.\n",
            "Found 40 images belonging to 2 classes.\n"
          ],
          "name": "stdout"
        }
      ]
    },
    {
      "cell_type": "markdown",
      "metadata": {
        "id": "NYAz3SHchAys"
      },
      "source": [
        "# Training the model"
      ]
    },
    {
      "cell_type": "code",
      "metadata": {
        "id": "vc6VO8O-J0H4",
        "outputId": "bc48fa1f-8ce7-43c6-8ef9-f974defa1205",
        "colab": {
          "base_uri": "https://localhost:8080/"
        }
      },
      "source": [
        "# # test untrained model on the test set\n",
        "\n",
        "loss, acc, auc = model.evaluate(test_data)\n",
        "\n",
        "print(\n",
        "    f'''\n",
        "Test Evaluation results (Untrained):\n",
        "\n",
        "Loss = {loss:.2f}\n",
        "Accuracy = {acc * 100:.2f} %\n",
        "AUC = {auc:.2f}'''\n",
        ")\n"
      ],
      "execution_count": null,
      "outputs": [
        {
          "output_type": "stream",
          "text": [
            "2/2 [==============================] - 1s 390ms/step - loss: 0.7792 - acc: 0.5250 - auc_1: 0.7130\n",
            "\n",
            "Test Evaluation results (Untrained):\n",
            "\n",
            "Loss = 0.78\n",
            "Accuracy = 52.50 %\n",
            "AUC = 0.71\n"
          ],
          "name": "stdout"
        }
      ]
    },
    {
      "cell_type": "code",
      "metadata": {
        "id": "6FEY7EQ-e--X"
      },
      "source": [
        "from tensorflow.keras.callbacks import ModelCheckpoint\n",
        "\n",
        "chkpt = ModelCheckpoint(\n",
        "    'best-model/best_ckpt', \n",
        "    monitor='val_acc',\n",
        "    save_weights_only=True,\n",
        "    save_best_only=True\n",
        ")"
      ],
      "execution_count": null,
      "outputs": []
    },
    {
      "cell_type": "code",
      "metadata": {
        "id": "JZiYk4WPfz1O",
        "outputId": "876cb8bc-5ba7-4ea2-8bb8-72dd9b7bed3e",
        "colab": {
          "base_uri": "https://localhost:8080/"
        }
      },
      "source": [
        "hist = model.fit(\n",
        "    train_data, epochs=N_EPOCHS, \n",
        "    validation_data=valid_data, \n",
        "    callbacks=[chkpt]\n",
        ")"
      ],
      "execution_count": null,
      "outputs": [
        {
          "output_type": "stream",
          "text": [
            "Epoch 1/8\n",
            "41/41 [==============================] - 36s 883ms/step - loss: 0.3992 - acc: 0.8442 - auc_1: 0.9095 - val_loss: 0.2273 - val_acc: 0.8571 - val_auc_1: 0.9706\n",
            "Epoch 2/8\n",
            "41/41 [==============================] - 37s 901ms/step - loss: 0.2014 - acc: 0.9128 - auc_1: 0.9746 - val_loss: 0.2106 - val_acc: 0.9143 - val_auc_1: 0.9869\n",
            "Epoch 3/8\n",
            "41/41 [==============================] - 36s 890ms/step - loss: 0.1317 - acc: 0.9564 - auc_1: 0.9880 - val_loss: 0.1638 - val_acc: 0.9429 - val_auc_1: 0.9935\n",
            "Epoch 4/8\n",
            "41/41 [==============================] - 36s 885ms/step - loss: 0.1622 - acc: 0.9377 - auc_1: 0.9819 - val_loss: 0.1075 - val_acc: 0.9714 - val_auc_1: 0.9902\n",
            "Epoch 5/8\n",
            "41/41 [==============================] - 32s 776ms/step - loss: 0.1222 - acc: 0.9533 - auc_1: 0.9909 - val_loss: 0.0953 - val_acc: 0.9714 - val_auc_1: 0.9967\n",
            "Epoch 6/8\n",
            "41/41 [==============================] - 29s 706ms/step - loss: 0.1018 - acc: 0.9657 - auc_1: 0.9932 - val_loss: 0.0887 - val_acc: 0.9714 - val_auc_1: 0.9935\n",
            "Epoch 7/8\n",
            "41/41 [==============================] - 29s 706ms/step - loss: 0.0924 - acc: 0.9720 - auc_1: 0.9923 - val_loss: 0.0922 - val_acc: 0.9429 - val_auc_1: 0.9967\n",
            "Epoch 8/8\n",
            "41/41 [==============================] - 29s 705ms/step - loss: 0.0562 - acc: 0.9844 - auc_1: 0.9989 - val_loss: 0.1101 - val_acc: 0.9714 - val_auc_1: 0.9967\n"
          ],
          "name": "stdout"
        }
      ]
    },
    {
      "cell_type": "markdown",
      "metadata": {
        "id": "p3nnnJEkk2lz"
      },
      "source": [
        "#### Loss curves"
      ]
    },
    {
      "cell_type": "code",
      "metadata": {
        "id": "wcwnJ43Ikw5u"
      },
      "source": [
        "import matplotlib.pyplot as plt \n",
        "\n",
        "X = range(N_EPOCHS)\n"
      ],
      "execution_count": null,
      "outputs": []
    },
    {
      "cell_type": "code",
      "metadata": {
        "id": "BcgLM0r7lDLr",
        "outputId": "91ea80ba-8815-4a10-8317-a8a129fa4f34",
        "colab": {
          "base_uri": "https://localhost:8080/",
          "height": 265
        }
      },
      "source": [
        "loss = hist.history['loss']\n",
        "val_loss = hist.history['val_loss']\n",
        "\n",
        "plt.plot(X, loss, label='training loss')\n",
        "plt.plot(X, val_loss, label='validation loss')\n",
        "plt.legend()\n",
        "plt.show()"
      ],
      "execution_count": null,
      "outputs": [
        {
          "output_type": "display_data",
          "data": {
            "image/png": "[encoded data removed]",
            "text/plain": [
              "<Figure size 432x288 with 1 Axes>"
            ]
          },
          "metadata": {
            "tags": [],
            "needs_background": "light"
          }
        }
      ]
    },
    {
      "cell_type": "code",
      "metadata": {
        "id": "_LuL959ulC0T",
        "outputId": "8587aa71-b55e-4914-c0e0-92cb8ba0247c",
        "colab": {
          "base_uri": "https://localhost:8080/",
          "height": 265
        }
      },
      "source": [
        "acc = hist.history['acc']\n",
        "val_acc = hist.history['val_acc']\n",
        "\n",
        "plt.plot(X, acc, label='training acc')\n",
        "plt.plot(X, val_acc, label='validation acc')\n",
        "plt.legend()\n",
        "plt.show()"
      ],
      "execution_count": null,
      "outputs": [
        {
          "output_type": "display_data",
          "data": {
            "image/png": "[encoded data removed]",
            "text/plain": [
              "<Figure size 432x288 with 1 Axes>"
            ]
          },
          "metadata": {
            "tags": [],
            "needs_background": "light"
          }
        }
      ]
    },
    {
      "cell_type": "markdown",
      "metadata": {
        "id": "hDpXAz9Qg3rE"
      },
      "source": [
        "# Evaluating the model's performance"
      ]
    },
    {
      "cell_type": "code",
      "metadata": {
        "id": "hc5RSykmjKZ1",
        "outputId": "12bb2271-add2-456f-877b-259f841336b4",
        "colab": {
          "base_uri": "https://localhost:8080/"
        }
      },
      "source": [
        "model.load_weights('best-model/best_ckpt')"
      ],
      "execution_count": null,
      "outputs": [
        {
          "output_type": "execute_result",
          "data": {
            "text/plain": [
              "<tensorflow.python.training.tracking.util.CheckpointLoadStatus at 0x1f2d59797c0>"
            ]
          },
          "metadata": {
            "tags": []
          },
          "execution_count": 24
        }
      ]
    },
    {
      "cell_type": "code",
      "metadata": {
        "id": "JZ-u6_j4jT2M",
        "outputId": "49b58c9c-afa9-40fd-919a-24528332db21",
        "colab": {
          "base_uri": "https://localhost:8080/"
        }
      },
      "source": [
        "loss, acc, auc = model.evaluate(test_data)\n",
        "\n",
        "print(\n",
        "    f'''\n",
        "Test Evaluation results:\n",
        "\n",
        "Loss = {loss:.2f}\n",
        "Accuracy = {acc * 100:.2f} %\n",
        "AUC = {auc:.2f}'''\n",
        ")"
      ],
      "execution_count": null,
      "outputs": [
        {
          "output_type": "stream",
          "text": [
            "2/2 [==============================] - 1s 312ms/step - loss: 0.0883 - acc: 0.9750 - auc_1: 1.0000\n",
            "\n",
            "Test Evaluation results:\n",
            "\n",
            "Loss = 0.09\n",
            "Accuracy = 97.50 %\n",
            "AUC = 1.00\n"
          ],
          "name": "stdout"
        }
      ]
    },
    {
      "cell_type": "code",
      "metadata": {
        "id": "Hj9Sd86mkJDN"
      },
      "source": [
        "model.save('covid_model.h5')"
      ],
      "execution_count": null,
      "outputs": []
    },
    {
      "cell_type": "markdown",
      "metadata": {
        "id": "ad_0bzn0KfuL"
      },
      "source": [
        "# Testing model on individual images"
      ]
    },
    {
      "cell_type": "code",
      "metadata": {
        "id": "YS_hWyMebz8I"
      },
      "source": [
        "#use this if you're running just the model\n",
        "\n",
        "# from tensorflow.keras.models import load_model\n",
        "# model = load_model('test_model.h5')"
      ],
      "execution_count": null,
      "outputs": []
    },
    {
      "cell_type": "code",
      "metadata": {
        "id": "gKSFO5ZxKd9M"
      },
      "source": [
        "import cv2\n",
        "import numpy as np"
      ],
      "execution_count": null,
      "outputs": []
    },
    {
      "cell_type": "code",
      "metadata": {
        "id": "UfEFdglxKnsh"
      },
      "source": [
        "def preprocess_image(img_path):\n",
        "    img = cv2.cvtColor(cv2.resize(cv2.imread(img_path), (224, 224)), cv2.COLOR_BGR2RGB)\n",
        "    return img[np.newaxis, ...] / 255 "
      ],
      "execution_count": null,
      "outputs": []
    },
    {
      "cell_type": "code",
      "metadata": {
        "id": "Ml3uCRCyLM02"
      },
      "source": [
        "import os"
      ],
      "execution_count": null,
      "outputs": []
    },
    {
      "cell_type": "code",
      "metadata": {
        "id": "6axFZVnzbz8e"
      },
      "source": [
        "def predict_covid(img):\n",
        "    inp = preprocess_image(img)\n",
        "    if model.predict(inp) > 0.75: return 'Positive'\n",
        "    return 'Negative'"
      ],
      "execution_count": null,
      "outputs": []
    },
    {
      "cell_type": "code",
      "metadata": {
        "id": "SYbnk_cPbz8j",
        "outputId": "b1231f14-f8aa-4130-cc85-ed414313283e"
      },
      "source": [
        "predict_covid('dataset/test/Positive/2-chest-filmc.jpg')"
      ],
      "execution_count": null,
      "outputs": [
        {
          "output_type": "execute_result",
          "data": {
            "text/plain": [
              "'Positive'"
            ]
          },
          "metadata": {
            "tags": []
          },
          "execution_count": 44
        }
      ]
    },
    {
      "cell_type": "code",
      "metadata": {
        "id": "4uH_yjYIbz8q",
        "outputId": "6e3e4f22-8a8b-47ea-9e4b-1be0f87b46a4"
      },
      "source": [
        "predict_covid('dataset/test/Negative/NORMAL2-IM-1300-0001.jpeg')"
      ],
      "execution_count": null,
      "outputs": [
        {
          "output_type": "execute_result",
          "data": {
            "text/plain": [
              "'Negative'"
            ]
          },
          "metadata": {
            "tags": []
          },
          "execution_count": 45
        }
      ]
    }
  ]
}